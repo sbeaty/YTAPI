{
 "cells": [
  {
   "cell_type": "code",
   "execution_count": 1,
   "metadata": {},
   "outputs": [
    {
     "name": "stdout",
     "output_type": "stream",
     "text": [
      "Transcriptions saved to transcriptions.txt\n"
     ]
    }
   ],
   "source": [
    "from youtube_transcript_api import YouTubeTranscriptApi\n",
    "import requests\n",
    "from bs4 import BeautifulSoup\n",
    "def get_channel_videos(channel_url):\n",
    "    response = requests.get(channel_url)\n",
    "    soup = BeautifulSoup(response.text, 'html.parser')\n",
    "    video_links = []\n",
    "\n",
    "    for link in soup.find_all('a'):\n",
    "        href = link.get('href')\n",
    "        if href and '/watch?v=' in href:\n",
    "            video_link = 'https://www.youtube.com' + href\n",
    "            video_links.append(video_link)\n",
    "\n",
    "    return video_links\n",
    "def get_transcript(video_link):\n",
    "    video_id = video_link.split('v=')[1]\n",
    "    try:\n",
    "        transcript_list = YouTubeTranscriptApi.get_transcript(video_id)\n",
    "        transcript_text = ''\n",
    "        for item in transcript_list:\n",
    "            timestamp = item['start']\n",
    "            text = item['text']\n",
    "            transcript_text += f'[{timestamp}] {text}\\n'\n",
    "        return transcript_text\n",
    "    except Exception as e:\n",
    "        print(f'Error fetching transcript for video {video_link}: {str(e)}')\n",
    "        return None\n",
    "\n",
    "channel_url='https://www.youtube.com/@DanKoeTalks'\n",
    "video_links = get_channel_videos(channel_url)\n",
    "output_file = 'transcriptions.txt'\n",
    "\n",
    "with open(output_file, 'w', encoding='utf-8') as file:\n",
    "    for link in video_links:\n",
    "        transcript = get_transcript(link)\n",
    "        if transcript:\n",
    "            file.write(f'Video: {link}\\n')\n",
    "            file.write(transcript)\n",
    "            file.write('\\n\\n')\n",
    "\n",
    "print(f'Transcriptions saved to {output_file}')\n"
   ]
  }
 ],
 "metadata": {
  "kernelspec": {
   "display_name": "Python 3",
   "language": "python",
   "name": "python3"
  },
  "language_info": {
   "codemirror_mode": {
    "name": "ipython",
    "version": 3
   },
   "file_extension": ".py",
   "mimetype": "text/x-python",
   "name": "python",
   "nbconvert_exporter": "python",
   "pygments_lexer": "ipython3",
   "version": "3.10.3"
  }
 },
 "nbformat": 4,
 "nbformat_minor": 2
}
